{
 "cells": [
  {
   "cell_type": "code",
   "execution_count": 7,
   "id": "ac49bc0d-6069-4051-8f12-acd1e7d2f60f",
   "metadata": {},
   "outputs": [
    {
     "name": "stdout",
     "output_type": "stream",
     "text": [
      "Initial Matrix Before Slicing: \n",
      "\n",
      " [[15 11 14 12]\n",
      " [ 9  9 14 12]\n",
      " [13 13 12 12]\n",
      " [12 12 15 11]\n",
      " [15 10 14 13]\n",
      " [ 9 10  9 15]]\n",
      "\n",
      " Matrix Result After Slicing: \n",
      "\n",
      " [[15 11 14 12]\n",
      " [ 9  9 14 12]\n",
      " [13 13 12 12]\n",
      " [12 12 15 11]\n",
      " [28 24 26 24]\n",
      " [21 21 29 23]]\n"
     ]
    }
   ],
   "source": [
    "import numpy as np\n",
    "\n",
    "# Create a 6x4 matrix with random integer values between 20 and 85\n",
    "matrix = np.random.randint(low=9, high=16, size=(6,4))\n",
    "\n",
    "# Print the initial matrix\n",
    "print(f'Initial Matrix Before Slicing: \\n\\n {matrix}')\n",
    "\n",
    "# Add a new row at index 4 that is the sum of rows 0 and 2\n",
    "matrix[4] = np.sum( matrix[[0,2], :], axis=0)\n",
    "\n",
    "# Add a new row at index 5 that is the sum of rows 1 and 3\n",
    "matrix[5] = np.sum( matrix[[1,3], :], axis=0)\n",
    "\n",
    "# Print the modified matrix\n",
    "print(f'\\n Matrix Result After Slicing: \\n\\n {matrix}')\n",
    "\n"
   ]
  },
  {
   "cell_type": "code",
   "execution_count": null,
   "id": "c4acf7e5-8531-42b8-90c6-11c23fa15933",
   "metadata": {},
   "outputs": [],
   "source": []
  }
 ],
 "metadata": {
  "kernelspec": {
   "display_name": "Python 3 (ipykernel)",
   "language": "python",
   "name": "python3"
  },
  "language_info": {
   "codemirror_mode": {
    "name": "ipython",
    "version": 3
   },
   "file_extension": ".py",
   "mimetype": "text/x-python",
   "name": "python",
   "nbconvert_exporter": "python",
   "pygments_lexer": "ipython3",
   "version": "3.10.9"
  }
 },
 "nbformat": 4,
 "nbformat_minor": 5
}
